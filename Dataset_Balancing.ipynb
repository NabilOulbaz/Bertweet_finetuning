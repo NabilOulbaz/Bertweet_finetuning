{
  "nbformat": 4,
  "nbformat_minor": 0,
  "metadata": {
    "colab": {
      "provenance": [],
      "collapsed_sections": [],
      "authorship_tag": "ABX9TyO+Rl0p5sbxqmPy8dYSwqtu",
      "include_colab_link": true
    },
    "kernelspec": {
      "name": "python3",
      "display_name": "Python 3"
    },
    "language_info": {
      "name": "python"
    }
  },
  "cells": [
    {
      "cell_type": "markdown",
      "metadata": {
        "id": "view-in-github",
        "colab_type": "text"
      },
      "source": [
        "<a href=\"https://colab.research.google.com/github/NabilOulbaz/Bertweet_finetuning/blob/main/Dataset_Balancing.ipynb\" target=\"_parent\"><img src=\"https://colab.research.google.com/assets/colab-badge.svg\" alt=\"Open In Colab\"/></a>"
      ]
    },
    {
      "cell_type": "code",
      "execution_count": null,
      "metadata": {
        "id": "INKyI24wK5TW"
      },
      "outputs": [],
      "source": [
        "import pandas as pd\n",
        "import numpy as np\n",
        "import matplotlib.pyplot as plt\n",
        "import os\n",
        "from pathlib import Path\n",
        "from google.colab import drive\n",
        "import random"
      ]
    },
    {
      "cell_type": "code",
      "source": [
        "drive.mount('/content/drive')"
      ],
      "metadata": {
        "colab": {
          "base_uri": "https://localhost:8080/"
        },
        "id": "MJwII5eRLCcx",
        "outputId": "7a27cda6-eb5f-43d9-a2e7-5dfe8852cb32"
      },
      "execution_count": null,
      "outputs": [
        {
          "output_type": "stream",
          "name": "stdout",
          "text": [
            "Mounted at /content/drive\n"
          ]
        }
      ]
    },
    {
      "cell_type": "code",
      "source": [
        "%cd \"/content/drive/MyDrive/M1 ATAL/Stage : EmotionAnalysis/datasets/cleaned_new\""
      ],
      "metadata": {
        "colab": {
          "base_uri": "https://localhost:8080/"
        },
        "id": "D56spvvxLFb9",
        "outputId": "94e756a4-1d33-46a5-ce70-a44e15aa2d26"
      },
      "execution_count": null,
      "outputs": [
        {
          "output_type": "stream",
          "name": "stdout",
          "text": [
            "/content/drive/MyDrive/M1 ATAL/Stage : EmotionAnalysis/datasets/cleaned_new\n"
          ]
        }
      ]
    },
    {
      "cell_type": "code",
      "source": [
        "s19_train = pd.read_csv('s19_train.csv')\n",
        "s19_test = pd.read_csv('s19_test.csv')\n",
        "s19_validation = pd.read_csv('s19_validation.csv')"
      ],
      "metadata": {
        "id": "v-wqBgM7LnOd"
      },
      "execution_count": null,
      "outputs": []
    },
    {
      "cell_type": "code",
      "source": [
        "s18_train = pd.read_csv('s18_train.csv')\n",
        "s18_test = pd.read_csv('s18_test.csv')\n",
        "s18_validation = pd.read_csv('s18_validation.csv')"
      ],
      "metadata": {
        "id": "wC2mLyI5Lq--"
      },
      "execution_count": null,
      "outputs": []
    },
    {
      "cell_type": "code",
      "source": [
        "s18_train['emotion'].value_counts()"
      ],
      "metadata": {
        "colab": {
          "base_uri": "https://localhost:8080/"
        },
        "id": "fp6brMWueRgX",
        "outputId": "883fe172-79d8-404e-d27d-565cb9d9aa26"
      },
      "execution_count": null,
      "outputs": [
        {
          "output_type": "execute_result",
          "data": {
            "text/plain": [
              "joy        2156\n",
              "sadness    1886\n",
              "anger      1659\n",
              "other       317\n",
              "Name: emotion, dtype: int64"
            ]
          },
          "metadata": {},
          "execution_count": 8
        }
      ]
    },
    {
      "cell_type": "code",
      "source": [
        "dd_train = pd.read_csv('dd_train.csv')\n",
        "dd_test = pd.read_csv('dd_test.csv')\n",
        "dd_validation = pd.read_csv('dd_validation.csv')"
      ],
      "metadata": {
        "id": "s3l29Q-gLr3c"
      },
      "execution_count": null,
      "outputs": []
    },
    {
      "cell_type": "code",
      "source": [
        "def balancing(df):\n",
        "  emotions = ['anger', 'joy', 'other', 'sadness']\n",
        "  shapes = list()\n",
        "  for em in emotions:\n",
        "    temp = df[df['emotion']==em]\n",
        "    shapes.append(temp.shape[0])\n",
        "  \n",
        "  min_shape = min(shapes)\n",
        "  df_final = pd.DataFrame()\n",
        "  anger = df[df['emotion']=='anger']\n",
        "  joy = df[df['emotion']=='joy']\n",
        "  other = df[df['emotion']=='other']\n",
        "  sadness = df[df['emotion']=='sadness']\n",
        "  anger = anger.sample(n = min_shape).reset_index(drop=True)\n",
        "  joy = joy.sample(n=min_shape).reset_index(drop=True)\n",
        "  other = other.sample(n=min_shape).reset_index(drop=True)\n",
        "  sadness = sadness.sample(n=min_shape).reset_index(drop=True)\n",
        "\n",
        "  df_final = pd.concat([anger,joy,other,sadness], axis = 0)\n",
        "\n",
        "  return df_final\n",
        "    \n"
      ],
      "metadata": {
        "id": "5alUdLBkLzwM"
      },
      "execution_count": null,
      "outputs": []
    },
    {
      "cell_type": "code",
      "source": [
        "s19_train = balancing(s19_train)\n",
        "s19_test = balancing(s19_test)\n",
        "s19_validation = balancing(s19_validation)"
      ],
      "metadata": {
        "id": "0qvYlcAQL1Kb"
      },
      "execution_count": null,
      "outputs": []
    },
    {
      "cell_type": "code",
      "source": [
        "s18_train = balancing(s18_train)\n",
        "s18_test = balancing(s18_test)\n",
        "s18_validation = balancing(s18_validation)"
      ],
      "metadata": {
        "id": "nf04K9LyMBCr"
      },
      "execution_count": null,
      "outputs": []
    },
    {
      "cell_type": "code",
      "source": [
        "dd_train = balancing(dd_train)\n",
        "dd_test = balancing(dd_test)\n",
        "dd_validation = balancing(dd_validation)"
      ],
      "metadata": {
        "id": "p5eSKJqEMKfE"
      },
      "execution_count": null,
      "outputs": []
    },
    {
      "cell_type": "code",
      "source": [
        "s19_train.to_csv('s19_train_balanced.csv',index=False)\n",
        "s19_test.to_csv('s19_test_balanced.csv',index=False)\n",
        "s19_validation.to_csv('s19_validation_balanced.csv',index=False)"
      ],
      "metadata": {
        "id": "ELmkU-TBMPLB"
      },
      "execution_count": null,
      "outputs": []
    },
    {
      "cell_type": "code",
      "source": [
        "dd_train.to_csv('dd_train_balanced.csv',index=False)\n",
        "dd_test.to_csv('dd_test_balanced.csv',index=False)\n",
        "dd_validation.to_csv('dd_validation_balanced.csv',index=False)"
      ],
      "metadata": {
        "id": "nYC7blfKMsH4"
      },
      "execution_count": null,
      "outputs": []
    },
    {
      "cell_type": "code",
      "source": [
        "s18_train.to_csv('s18_train_balanced.csv',index=False)\n",
        "s18_test.to_csv('s18_test_balanced.csv',index=False)\n",
        "s18_validation.to_csv('s18_validation_balanced.csv',index=False)"
      ],
      "metadata": {
        "id": "fvlE8Y9WMzTV"
      },
      "execution_count": null,
      "outputs": []
    },
    {
      "cell_type": "code",
      "source": [],
      "metadata": {
        "id": "3-8h06avM4dq"
      },
      "execution_count": null,
      "outputs": []
    }
  ]
}